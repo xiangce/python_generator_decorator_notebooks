{
 "cells": [
  {
   "cell_type": "markdown",
   "metadata": {},
   "source": [
    "# Different efficiency of list comprehension and generator expression"
   ]
  },
  {
   "cell_type": "code",
   "execution_count": null,
   "metadata": {},
   "outputs": [],
   "source": [
    "%%timeit -n 1000\n",
    "any([i**2 > -1 for i in range(1000)])"
   ]
  },
  {
   "cell_type": "code",
   "execution_count": null,
   "metadata": {},
   "outputs": [],
   "source": [
    "%%timeit -n 1000\n",
    "any(i**2 > -1 for i in range(1000))"
   ]
  },
  {
   "cell_type": "code",
   "execution_count": null,
   "metadata": {},
   "outputs": [],
   "source": [
    "%%timeit -n 1000\n",
    "any([i**2 > 1000 for i in range(100)])"
   ]
  },
  {
   "cell_type": "code",
   "execution_count": null,
   "metadata": {},
   "outputs": [],
   "source": [
    "%%timeit -n 1000\n",
    "any(i**2 > 1000 for i in range(100))"
   ]
  },
  {
   "cell_type": "markdown",
   "metadata": {},
   "source": [
    "# The normal function with List:"
   ]
  },
  {
   "cell_type": "code",
   "execution_count": null,
   "metadata": {},
   "outputs": [],
   "source": [
    "def fib_foo(max):\n",
    "    a, b = 0, 1\n",
    "    lst = []\n",
    "    while a < max:\n",
    "        lst.append(a)\n",
    "        a, b = b, a+b\n",
    "    return lst"
   ]
  },
  {
   "cell_type": "markdown",
   "metadata": {},
   "source": [
    "# The generator function without List:"
   ]
  },
  {
   "cell_type": "code",
   "execution_count": null,
   "metadata": {},
   "outputs": [],
   "source": [
    "def fib_gen(max):\n",
    "    a, b = 0, 1\n",
    "    while a < max:\n",
    "        yield a\n",
    "        a, b = b, a+b"
   ]
  },
  {
   "cell_type": "markdown",
   "metadata": {},
   "source": [
    "# Different Efficiency"
   ]
  },
  {
   "cell_type": "code",
   "execution_count": null,
   "metadata": {},
   "outputs": [],
   "source": [
    "%%timeit -n 1000\n",
    "fib_foo(1000)"
   ]
  },
  {
   "cell_type": "code",
   "execution_count": null,
   "metadata": {},
   "outputs": [],
   "source": [
    "%%timeit -n 1000\n",
    "fib_gen(1000)"
   ]
  },
  {
   "cell_type": "code",
   "execution_count": null,
   "metadata": {},
   "outputs": [],
   "source": [
    "n = fib_foo(1000)\n",
    "g = fib_gen(1000)\n",
    "\n",
    "def iter_it(fun):\n",
    "    for i in fun:\n",
    "        pass"
   ]
  },
  {
   "cell_type": "code",
   "execution_count": null,
   "metadata": {},
   "outputs": [],
   "source": [
    "%%timeit -n 1000\n",
    "iter_it(n)"
   ]
  },
  {
   "cell_type": "code",
   "execution_count": null,
   "metadata": {},
   "outputs": [],
   "source": [
    "%%timeit -n 1000\n",
    "\n",
    "iter_it(g)"
   ]
  },
  {
   "cell_type": "markdown",
   "metadata": {},
   "source": [
    "# Real world Examples"
   ]
  },
  {
   "cell_type": "code",
   "execution_count": null,
   "metadata": {},
   "outputs": [],
   "source": [
    "def gen_data_from_file(file_name):                      # Lines Generator\n",
    "    with open(file_name) as f:\n",
    "        for line in f.readlines():\n",
    "            yield line\n",
    "\n",
    "def gen_words(line):                                    # Words Generator\n",
    "    for word in (w for w in line.split() if w.strip()): # () is a generator\n",
    "        yield word\n",
    "\n",
    "def count_words(file_name):                             # Data Consumer\n",
    "    word_map = {}\n",
    "    for line in gen_data_from_file(file_name):\n",
    "        for word in gen_words(line):\n",
    "            if word not in word_map:\n",
    "                word_map[word] = 0\n",
    "            word_map[word] += 1\n",
    "    return word_map\n",
    "\n",
    "def count_total_chars(file_name):                       # Data Consumer\n",
    "    cnt  = 0\n",
    "    for line in gen_data_from_file(file_name):\n",
    "        for word in gen_words(line):\n",
    "            cnt += len(word)\n",
    "    return cnt\n",
    "\n",
    "for k, v in count_words('test.txt').items():\n",
    "    if v == 6:\n",
    "        print k\n",
    "        \n",
    "print(count_total_chars('test.txt'))"
   ]
  },
  {
   "cell_type": "code",
   "execution_count": null,
   "metadata": {},
   "outputs": [],
   "source": []
  },
  {
   "cell_type": "code",
   "execution_count": null,
   "metadata": {},
   "outputs": [],
   "source": []
  }
 ],
 "metadata": {
  "kernelspec": {
   "display_name": "Python 2",
   "language": "python",
   "name": "python2"
  },
  "language_info": {
   "codemirror_mode": {
    "name": "ipython",
    "version": 2
   },
   "file_extension": ".py",
   "mimetype": "text/x-python",
   "name": "python",
   "nbconvert_exporter": "python",
   "pygments_lexer": "ipython2",
   "version": "2.7.14"
  }
 },
 "nbformat": 4,
 "nbformat_minor": 2
}
