{
 "cells": [
  {
   "cell_type": "markdown",
   "metadata": {},
   "source": [
    "# Decorator without arguments"
   ]
  },
  {
   "cell_type": "code",
   "execution_count": null,
   "metadata": {},
   "outputs": [],
   "source": [
    "def p_decorate(func):\n",
    "    def func_wrapper(arg):\n",
    "        return \"<p>{0}</p>\".format(func(arg))\n",
    "    return func_wrapper\n",
    "\n",
    "def strong_decorate(func):\n",
    "    def func_wrapper(arg):\n",
    "        return \"<strong>{0}</strong>\".format(func(arg))\n",
    "    return func_wrapper\n",
    "\n",
    "def div_decorate(func):\n",
    "    def func_wrapper(arg):\n",
    "        return \"<div>{0}</div>\".format(func(arg))\n",
    "    return func_wrapper"
   ]
  },
  {
   "cell_type": "code",
   "execution_count": null,
   "metadata": {},
   "outputs": [],
   "source": [
    "@div_decorate\n",
    "@strong_decorate\n",
    "@p_decorate\n",
    "def get_text(name):\n",
    "    return \"Hello, {0}!\".format(name)\n",
    "\n",
    "print get_text('World')"
   ]
  },
  {
   "cell_type": "code",
   "execution_count": null,
   "metadata": {},
   "outputs": [],
   "source": [
    "@p_decorate\n",
    "@div_decorate\n",
    "@strong_decorate\n",
    "def get_text(name):\n",
    "    return \"Hello, {0}!\".format(name)\n",
    "\n",
    "print get_text('World')"
   ]
  },
  {
   "cell_type": "markdown",
   "metadata": {},
   "source": [
    "# Decorator with arguments"
   ]
  },
  {
   "cell_type": "code",
   "execution_count": null,
   "metadata": {},
   "outputs": [],
   "source": [
    "def tags(tag):\n",
    "    def tag_decorate(func):\n",
    "        def func_wrapper(arg):\n",
    "            return \"<{0}>{1}</{0}>\".format(tag, func(arg))\n",
    "        return func_wrapper\n",
    "    return tag_decorate"
   ]
  },
  {
   "cell_type": "code",
   "execution_count": null,
   "metadata": {},
   "outputs": [],
   "source": [
    "@tags('div')\n",
    "@tags('strong')\n",
    "@tags('p')\n",
    "def get_text(name):\n",
    "    return \"Hello, {0}!\".format(name)\n",
    "\n",
    "print get_text('World')"
   ]
  },
  {
   "cell_type": "code",
   "execution_count": null,
   "metadata": {},
   "outputs": [],
   "source": [
    "@tags('div')\n",
    "@tags('p')\n",
    "@tags('strong')\n",
    "def get_text(name):\n",
    "    return \"Hello, {0}!\".format(name)\n",
    "\n",
    "print get_text('World')"
   ]
  },
  {
   "cell_type": "markdown",
   "metadata": {},
   "source": [
    "# Time it again"
   ]
  },
  {
   "cell_type": "code",
   "execution_count": null,
   "metadata": {},
   "outputs": [],
   "source": [
    "%%timeit -n 10000\n",
    "# Examples for Generator\n",
    "any([i**2 > 1000 for i in range(100)])"
   ]
  },
  {
   "cell_type": "code",
   "execution_count": null,
   "metadata": {},
   "outputs": [],
   "source": [
    "from datetime import datetime\n",
    "import time\n",
    "\n",
    "def time_this(func):\n",
    "    def time_it(*args,**kwargs):\n",
    "        before = datetime.now()\n",
    "        x = func(*args,**kwargs)\n",
    "        after = datetime.now()\n",
    "        print \"Elapsed Time = {0}\".format(after-before) \n",
    "        return x\n",
    "    return time_it"
   ]
  },
  {
   "cell_type": "code",
   "execution_count": null,
   "metadata": {},
   "outputs": [],
   "source": [
    "@time_this\n",
    "def fib_foo(max):\n",
    "    a, b = 0, 1\n",
    "    lst = []\n",
    "    while a < max:\n",
    "        lst.append(a)\n",
    "        a, b = b, a+b\n",
    "    return lst\n",
    "\n",
    "@time_this\n",
    "def fib_gen(max):\n",
    "    a, b = 0, 1\n",
    "    while a < max:\n",
    "        yield a\n",
    "        a, b = b, a+b\n",
    "        \n",
    "@time_this\n",
    "def wait_seconds(sec=0):\n",
    "    time.sleep(sec)\n",
    "    \n",
    "l = fib_foo(10)\n",
    "g = fib_gen(10)\n",
    "os = wait_seconds(1)"
   ]
  },
  {
   "cell_type": "code",
   "execution_count": null,
   "metadata": {},
   "outputs": [],
   "source": [
    "print l\n",
    "print g\n",
    "print list(g)"
   ]
  },
  {
   "cell_type": "markdown",
   "metadata": {},
   "source": [
    "# How to get average time?"
   ]
  },
  {
   "cell_type": "code",
   "execution_count": null,
   "metadata": {},
   "outputs": [],
   "source": [
    "from datetime import datetime, timedelta\n",
    "import time\n",
    "\n",
    "def average_time(times):\n",
    "    def time_this(func):\n",
    "        def time_it(*args, **kwargs):\n",
    "            sum = timedelta(0)\n",
    "            for i in range(times):\n",
    "                before = datetime.now()\n",
    "                x = func(*args, **kwargs)\n",
    "                after = datetime.now()\n",
    "                sum += after-before\n",
    "            print \"Average Elapsed Time = {0}\".format(sum/times) \n",
    "            return x\n",
    "        return time_it\n",
    "    return time_this\n",
    "\n",
    "\n",
    "@average_time(1000)\n",
    "def fib_foo(max):\n",
    "    a, b = 0, 1\n",
    "    lst = []\n",
    "    while a < max:\n",
    "        lst.append(a)\n",
    "        a, b = b, a+b\n",
    "    return lst\n",
    "\n",
    "@average_time(1000)\n",
    "def fib_gen(max):\n",
    "    a, b = 0, 1\n",
    "    while a < max:\n",
    "        yield a\n",
    "        a, b = b, a+b\n",
    "\n",
    "@average_time(5)\n",
    "def wait_seconds(sec=0):\n",
    "    time.sleep(sec)\n",
    "    \n",
    "l = fib_foo(10000)\n",
    "g = fib_gen(10000)\n",
    "a = wait_seconds(1)"
   ]
  },
  {
   "cell_type": "code",
   "execution_count": null,
   "metadata": {},
   "outputs": [],
   "source": [
    "print l\n",
    "print list(g)"
   ]
  }
 ],
 "metadata": {
  "kernelspec": {
   "display_name": "Python 2",
   "language": "python",
   "name": "python2"
  },
  "language_info": {
   "codemirror_mode": {
    "name": "ipython",
    "version": 2
   },
   "file_extension": ".py",
   "mimetype": "text/x-python",
   "name": "python",
   "nbconvert_exporter": "python",
   "pygments_lexer": "ipython2",
   "version": "2.7.14"
  }
 },
 "nbformat": 4,
 "nbformat_minor": 2
}
