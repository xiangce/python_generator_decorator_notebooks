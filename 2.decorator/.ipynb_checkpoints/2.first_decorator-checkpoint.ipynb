{
 "cells": [
  {
   "cell_type": "markdown",
   "metadata": {},
   "source": [
    "# The first Decorator"
   ]
  },
  {
   "cell_type": "code",
   "execution_count": null,
   "metadata": {},
   "outputs": [],
   "source": [
    "def p_decorate(func):\n",
    "    def func_wrapper(arg):\n",
    "        return \"<p>{0}</p>\".format(func(arg))\n",
    "    return func_wrapper\n",
    "\n",
    "def get_text(name):\n",
    "    return \"Hello, {0}!\".format(name)\n",
    "\n",
    "get_text = p_decorate(get_text)\n",
    "\n",
    "print get_text(\"world\")"
   ]
  },
  {
   "cell_type": "markdown",
   "metadata": {},
   "source": [
    "# Syntactic Sugar"
   ]
  },
  {
   "cell_type": "code",
   "execution_count": null,
   "metadata": {},
   "outputs": [],
   "source": [
    "def p_decorate(func):\n",
    "    def func_wrapper(arg):\n",
    "        return \"<p>{0}</p>\".format(func(arg))\n",
    "    return func_wrapper\n",
    "\n",
    "@p_decorate\n",
    "def get_text(name):\n",
    "    return \"Hello, {0}!\".format(name)\n",
    "\n",
    "print get_text('World')"
   ]
  },
  {
   "cell_type": "code",
   "execution_count": null,
   "metadata": {},
   "outputs": [],
   "source": [
    "print type(get_text)\n",
    "print dir(get_text)"
   ]
  },
  {
   "cell_type": "code",
   "execution_count": null,
   "metadata": {},
   "outputs": [],
   "source": [
    "print p_decorate.func_name"
   ]
  },
  {
   "cell_type": "code",
   "execution_count": null,
   "metadata": {},
   "outputs": [],
   "source": [
    "print get_text.func_name"
   ]
  },
  {
   "cell_type": "code",
   "execution_count": null,
   "metadata": {},
   "outputs": [],
   "source": []
  }
 ],
 "metadata": {
  "kernelspec": {
   "display_name": "Python 2",
   "language": "python",
   "name": "python2"
  },
  "language_info": {
   "codemirror_mode": {
    "name": "ipython",
    "version": 2
   },
   "file_extension": ".py",
   "mimetype": "text/x-python",
   "name": "python",
   "nbconvert_exporter": "python",
   "pygments_lexer": "ipython2",
   "version": "2.7.14"
  }
 },
 "nbformat": 4,
 "nbformat_minor": 2
}
