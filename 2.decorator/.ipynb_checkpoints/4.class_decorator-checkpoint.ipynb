{
 "cells": [
  {
   "cell_type": "code",
   "execution_count": null,
   "metadata": {},
   "outputs": [],
   "source": [
    "class ImportantStuff(object):\n",
    "    def fib_foo(self, max):\n",
    "        a, b = 0, 1\n",
    "        lst = []\n",
    "        while a < max:\n",
    "            lst.append(a)\n",
    "            a, b = b, a+b\n",
    "        return lst\n",
    "\n",
    "    def fib_gen(self, max):\n",
    "        a, b = 0, 1\n",
    "        while a < max:\n",
    "            yield a\n",
    "            a, b = b, a+b\n",
    "\n",
    "    def wait_seconds(self, sec=0):\n",
    "        time.sleep(sec)    "
   ]
  },
  {
   "cell_type": "code",
   "execution_count": null,
   "metadata": {},
   "outputs": [],
   "source": [
    "from datetime import datetime, timedelta\n",
    "import time\n",
    "\n",
    "def average_time(times):\n",
    "    def time_this(func):\n",
    "        def time_it(*args, **kwargs):\n",
    "            sum = timedelta(0)\n",
    "            for i in range(times):\n",
    "                before = datetime.now()\n",
    "                x = func(*args, **kwargs)\n",
    "                after = datetime.now()\n",
    "                sum += after-before\n",
    "            print \"Average Elapsed Time = {0}\".format(sum/times) \n",
    "            return x\n",
    "        return time_it\n",
    "    return time_this"
   ]
  },
  {
   "cell_type": "code",
   "execution_count": null,
   "metadata": {},
   "outputs": [],
   "source": [
    "class ImportantStuff(object):\n",
    "    @average_time(10)\n",
    "    def fib_foo(self, max):\n",
    "        a, b = 0, 1\n",
    "        lst = []\n",
    "        while a < max:\n",
    "            lst.append(a)\n",
    "            a, b = b, a+b\n",
    "        return lst\n",
    "    \n",
    "    @average_time(10)\n",
    "    def fib_gen(self, max):\n",
    "        a, b = 0, 1\n",
    "        while a < max:\n",
    "            yield a\n",
    "            a, b = b, a+b\n",
    "            \n",
    "    @average_time(10)\n",
    "    def wait_seconds(self, sec=0):\n",
    "        time.sleep(sec)      "
   ]
  },
  {
   "cell_type": "code",
   "execution_count": null,
   "metadata": {},
   "outputs": [],
   "source": [
    "i = ImportantStuff()\n",
    "l = i.fib_foo(1000)\n",
    "g = i.fib_gen(1000)\n",
    "a = i.wait_seconds(1)"
   ]
  },
  {
   "cell_type": "code",
   "execution_count": null,
   "metadata": {},
   "outputs": [],
   "source": [
    "@time_all_class_methods(10)\n",
    "class ImportantStuff(object):\n",
    "    def fib_foo(self, max):\n",
    "        a, b = 0, 1\n",
    "        lst = []\n",
    "        while a < max:\n",
    "            lst.append(a)\n",
    "            a, b = b, a+b\n",
    "        return lst\n",
    "\n",
    "    def fib_gen(self, max):\n",
    "        a, b = 0, 1\n",
    "        while a < max:\n",
    "            yield a\n",
    "            a, b = b, a+b\n",
    "\n",
    "    def wait_seconds(self, sec=0):\n",
    "        time.sleep(sec)"
   ]
  },
  {
   "cell_type": "markdown",
   "metadata": {},
   "source": [
    "# Decorating Classes"
   ]
  },
  {
   "cell_type": "code",
   "execution_count": null,
   "metadata": {},
   "outputs": [],
   "source": [
    "from datetime import datetime, timedelta\n",
    "import time\n",
    "\n",
    "def average_time(times):\n",
    "    def time_this(func):\n",
    "        def time_it(*args, **kwargs):\n",
    "            sum = timedelta(0)\n",
    "            for i in range(times):\n",
    "                before = datetime.now()\n",
    "                x = func(*args, **kwargs)\n",
    "                after = datetime.now()\n",
    "                sum += after-before\n",
    "            print \"Average Elapsed Time = {0}\".format(sum/times) \n",
    "            return x\n",
    "        return time_it\n",
    "    return time_this\n",
    "\n",
    "def time_all_class_methods(times):\n",
    "    def time_class(Cls):\n",
    "        class NewCls(object):\n",
    "            def __init__(self, *args, **kwargs):\n",
    "                self.wrapped = Cls(*args,**kwargs)\n",
    "            def __getattribute__(self, s):\n",
    "                try:    \n",
    "                    x = super(NewCls, self).__getattribute__(s)\n",
    "                except AttributeError:      \n",
    "                    pass\n",
    "                else:\n",
    "                    return x\n",
    "                x = self.wrapped.__getattribute__(s)\n",
    "                if type(x) == type(self.__init__):\n",
    "                    return average_time(times)(x)\n",
    "                else:\n",
    "                    return x\n",
    "        return NewCls\n",
    "    return time_class\n",
    "\n",
    "@time_all_class_methods(10)\n",
    "class ImportantStuffNew(object):\n",
    "    def fib_foo(self, max):\n",
    "        a, b = 0, 1\n",
    "        lst = []\n",
    "        while a < max:\n",
    "            lst.append(a)\n",
    "            a, b = b, a+b\n",
    "        return lst\n",
    "\n",
    "    def fib_gen(self, max):\n",
    "        a, b = 0, 1\n",
    "        while a < max:\n",
    "            yield a\n",
    "            a, b = b, a+b\n",
    "\n",
    "    def wait_seconds(self, sec=0):\n",
    "        time.sleep(sec)"
   ]
  },
  {
   "cell_type": "code",
   "execution_count": null,
   "metadata": {},
   "outputs": [],
   "source": [
    "new_i = ImportantStuffNew()\n",
    "l = new_i.fib_foo(1000)\n",
    "g = new_i.fib_gen(1000)\n",
    "a = new_i.wait_seconds(1)"
   ]
  },
  {
   "cell_type": "code",
   "execution_count": null,
   "metadata": {},
   "outputs": [],
   "source": []
  }
 ],
 "metadata": {
  "kernelspec": {
   "display_name": "Python 2",
   "language": "python",
   "name": "python2"
  },
  "language_info": {
   "codemirror_mode": {
    "name": "ipython",
    "version": 2
   },
   "file_extension": ".py",
   "mimetype": "text/x-python",
   "name": "python",
   "nbconvert_exporter": "python",
   "pygments_lexer": "ipython2",
   "version": "2.7.14"
  }
 },
 "nbformat": 4,
 "nbformat_minor": 2
}
