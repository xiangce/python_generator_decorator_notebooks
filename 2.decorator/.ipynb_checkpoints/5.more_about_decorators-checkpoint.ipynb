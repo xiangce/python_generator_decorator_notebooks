{
 "cells": [
  {
   "cell_type": "code",
   "execution_count": null,
   "metadata": {},
   "outputs": [],
   "source": [
    "def tags(tag):\n",
    "    def tag_decorate(func):\n",
    "        def func_wrapper(arg):\n",
    "            return \"<{0}>{1}</{0}>\".format(tag, func(arg))\n",
    "        return func_wrapper\n",
    "    return tag_decorate\n",
    "\n",
    "@tags('title')\n",
    "def html_title(title):\n",
    "    return title\n",
    "\n",
    "print html_title(\"Hello World!\")"
   ]
  },
  {
   "cell_type": "code",
   "execution_count": null,
   "metadata": {},
   "outputs": [],
   "source": [
    "print type(html_title)\n",
    "print dir(html_title)"
   ]
  },
  {
   "cell_type": "code",
   "execution_count": null,
   "metadata": {},
   "outputs": [],
   "source": [
    "def tags(tag):\n",
    "    \"\"\"doc: tags\"\"\"\n",
    "    def tag_decorate(func):\n",
    "        \"\"\"doc: tag decorator\"\"\"\n",
    "        def func_wrapper(arg):\n",
    "            \"\"\"doc: func_wrapper\"\"\"\n",
    "            return \"<{0}>{1}</{0}>\".format(tag, func(arg))\n",
    "        return func_wrapper\n",
    "    return tag_decorate\n",
    "\n",
    "\n",
    "@tags('title')\n",
    "def html_title(title):\n",
    "    \"\"\"doc: Wrapper with <title>\"\"\"\n",
    "    return title"
   ]
  },
  {
   "cell_type": "code",
   "execution_count": null,
   "metadata": {},
   "outputs": [],
   "source": [
    "print 'func_name:', tags.__name__\n",
    "print 'func_doc: ', tags.__doc__"
   ]
  },
  {
   "cell_type": "code",
   "execution_count": null,
   "metadata": {},
   "outputs": [],
   "source": [
    "print 'func_name:', html_title.func_name\n",
    "print 'func_doc: ', html_title.__doc__"
   ]
  },
  {
   "cell_type": "code",
   "execution_count": null,
   "metadata": {},
   "outputs": [],
   "source": [
    "def simple_decorator(decorator_func):\n",
    "    '''doc: simple decorator'''\n",
    "    def new_decorator(func):\n",
    "        '''doc: new_decorator'''\n",
    "        g = decorator_func(func)\n",
    "        g.__name__ = func.func_name\n",
    "        g.__doc__ = func.__doc__\n",
    "        return g\n",
    "    return new_decorator"
   ]
  },
  {
   "cell_type": "code",
   "execution_count": null,
   "metadata": {},
   "outputs": [],
   "source": [
    "#@simple_decorator\n",
    "def tags(tag):\n",
    "    @simple_decorator\n",
    "    def tag_decorate(func):\n",
    "        \"\"\"doc: tag decorator\"\"\"\n",
    "        #@simple_decorator\n",
    "        def func_wrapper(arg):\n",
    "            \"\"\"doc: func_wrapper\"\"\"\n",
    "            return \"<{0}>{1}</{0}>\".format(tag, func(arg))\n",
    "        print \"tag_decorate ==\", tag_decorate.__name__\n",
    "        return func_wrapper\n",
    "    return tag_decorate\n",
    "\n",
    "\n",
    "@tags('title')\n",
    "def html_title(title):\n",
    "    \"\"\"doc: Wrapper with <title>\"\"\"\n",
    "    return title\n",
    "\n",
    "print 'func_name:', html_title.func_name\n",
    "print 'func_doc: ', html_title.__doc__"
   ]
  },
  {
   "cell_type": "code",
   "execution_count": null,
   "metadata": {},
   "outputs": [],
   "source": []
  },
  {
   "cell_type": "code",
   "execution_count": null,
   "metadata": {},
   "outputs": [],
   "source": [
    "def simple_decorator(decorator_func):\n",
    "    '''doc: simple decorator'''\n",
    "    def new_decorator(func):\n",
    "        '''doc: new_decorator'''\n",
    "        g = decorator_func(func)\n",
    "        g.__name__ = func.__name__\n",
    "        g.__doc__ = func.__doc__\n",
    "        return g\n",
    "    new_decorator.__name__ = decorator_func.__name__\n",
    "    new_decorator.__doc__ = decorator_func.__doc__\n",
    "    return new_decorator\n",
    "\n",
    "\n",
    "def tags(tag):\n",
    "    @simple_decorator\n",
    "    def tag_decorate(func):\n",
    "        \"\"\"doc: tag decorator\"\"\"\n",
    "        #@simple_decorator\n",
    "        def func_wrapper(arg):\n",
    "            \"\"\"doc: func_wrapper\"\"\"\n",
    "            return \"<{0}>{1}</{0}>\".format(tag, func(arg))\n",
    "        print \"tag_decorate ==\", tag_decorate.__name__\n",
    "        return func_wrapper\n",
    "    return tag_decorate\n",
    "\n",
    "\n",
    "@tags('title')\n",
    "def html_title(title):\n",
    "    \"\"\"doc: Wrapper with <title>\"\"\"\n",
    "    return title\n",
    "\n",
    "print 'func_name:', html_title.func_name\n",
    "print 'func_doc: ', html_title.__doc__"
   ]
  },
  {
   "cell_type": "markdown",
   "metadata": {},
   "source": [
    "# functools"
   ]
  },
  {
   "cell_type": "code",
   "execution_count": null,
   "metadata": {},
   "outputs": [],
   "source": [
    "from functools import wraps\n",
    "def tags(tag):\n",
    "    def tag_decorate(func):\n",
    "        \"\"\"doc: tag decorator\"\"\"\n",
    "        @wraps(func)\n",
    "        def func_wrapper(arg):\n",
    "            \"\"\"doc: func_wrapper\"\"\"\n",
    "            return \"<{0}>{1}</{0}>\".format(tag, func(arg))\n",
    "        print \"tag_decorate ==\", tag_decorate.__name__\n",
    "        return func_wrapper\n",
    "    return tag_decorate\n",
    "\n",
    "\n",
    "@tags('title')\n",
    "def html_title(title):\n",
    "    \"\"\"doc: Wrapper with <title>\"\"\"\n",
    "    return title\n",
    "\n",
    "print 'func_name:', html_title.func_name\n",
    "print 'func_doc: ', html_title.__doc__"
   ]
  },
  {
   "cell_type": "code",
   "execution_count": null,
   "metadata": {},
   "outputs": [],
   "source": []
  }
 ],
 "metadata": {
  "kernelspec": {
   "display_name": "Python 2",
   "language": "python",
   "name": "python2"
  },
  "language_info": {
   "codemirror_mode": {
    "name": "ipython",
    "version": 2
   },
   "file_extension": ".py",
   "mimetype": "text/x-python",
   "name": "python",
   "nbconvert_exporter": "python",
   "pygments_lexer": "ipython2",
   "version": "2.7.14"
  }
 },
 "nbformat": 4,
 "nbformat_minor": 2
}
