{
 "cells": [
  {
   "cell_type": "markdown",
   "metadata": {},
   "source": [
    "# Introduction"
   ]
  },
  {
   "cell_type": "code",
   "execution_count": null,
   "metadata": {},
   "outputs": [],
   "source": [
    "def fib_foo(max):\n",
    "    a, b = 0, 1\n",
    "    lst = []\n",
    "    while a < max:\n",
    "        lst.append(a)\n",
    "        a, b = b, a+b\n",
    "    return lst\n",
    "\n",
    "def fib_gen(max):\n",
    "    a, b = 0, 1\n",
    "    while a < max:\n",
    "        yield a\n",
    "        a, b = b, a+b"
   ]
  },
  {
   "cell_type": "code",
   "execution_count": null,
   "metadata": {},
   "outputs": [],
   "source": [
    "from datetime import datetime\n",
    "import time\n",
    "\n",
    "before = datetime.now()\n",
    "fib_foo(1000)\n",
    "after = datetime.now()\n",
    "print after - before\n",
    "\n",
    "before = datetime.now()\n",
    "fib_gen(1000)\n",
    "after = datetime.now()\n",
    "print after - before"
   ]
  },
  {
   "cell_type": "markdown",
   "metadata": {},
   "source": [
    "# f(x) = a * x + b"
   ]
  },
  {
   "cell_type": "code",
   "execution_count": null,
   "metadata": {},
   "outputs": [],
   "source": [
    "def equation(a, b, x):\n",
    "    return a * x + b"
   ]
  },
  {
   "cell_type": "code",
   "execution_count": null,
   "metadata": {},
   "outputs": [],
   "source": [
    "print equation(2, 3, 10)\n",
    "print equation(3, 5, 12)"
   ]
  },
  {
   "cell_type": "code",
   "execution_count": null,
   "metadata": {},
   "outputs": [],
   "source": [
    "def equation23(x):\n",
    "    return 2 * x + 3\n",
    "def equation35(x):\n",
    "    return 3 * x + 5\n",
    "print equation23(10)\n",
    "print equation35(12)"
   ]
  },
  {
   "cell_type": "markdown",
   "metadata": {},
   "source": [
    "# function in python: first class citizens"
   ]
  },
  {
   "cell_type": "code",
   "execution_count": null,
   "metadata": {},
   "outputs": [],
   "source": [
    "# Can be assigned to variables\n",
    "# Can be used as parameters\n",
    "# Can be nested"
   ]
  },
  {
   "cell_type": "code",
   "execution_count": null,
   "metadata": {},
   "outputs": [],
   "source": [
    "# Can be assigned to variables\n",
    "eq23 = equation23\n",
    "eq35 = equation35\n",
    "print eq23(10)\n",
    "print eq35(12)"
   ]
  },
  {
   "cell_type": "code",
   "execution_count": null,
   "metadata": {},
   "outputs": [],
   "source": [
    "# Can be used as parameters\n",
    "def call_function(func, arg):\n",
    "    return func(arg)\n",
    "\n",
    "print call_function(equation23, 10)\n",
    "print call_function(eq35, 12)"
   ]
  },
  {
   "cell_type": "code",
   "execution_count": null,
   "metadata": {},
   "outputs": [],
   "source": [
    "# Can be nested\n",
    "def equation(a, b):\n",
    "    def inner(x):\n",
    "        return a * x + b\n",
    "    return inner"
   ]
  },
  {
   "cell_type": "code",
   "execution_count": null,
   "metadata": {},
   "outputs": [],
   "source": [
    "eq23 = equation(2, 3)\n",
    "eq23(10)"
   ]
  },
  {
   "cell_type": "markdown",
   "metadata": {},
   "source": [
    "# Closure Syntactic Sugar"
   ]
  },
  {
   "cell_type": "code",
   "execution_count": null,
   "metadata": {},
   "outputs": [],
   "source": [
    "eq23 = equation(2, 3)\n",
    "eq35 = equation(3, 5)\n",
    "print eq23(10)\n",
    "print eq35(12)"
   ]
  },
  {
   "cell_type": "markdown",
   "metadata": {},
   "source": [
    "# Time it"
   ]
  },
  {
   "cell_type": "code",
   "execution_count": null,
   "metadata": {},
   "outputs": [],
   "source": [
    "from datetime import datetime\n",
    "def time_it(func):\n",
    "    def run_func(arg):\n",
    "        before = datetime.now()\n",
    "        func(arg)\n",
    "        after = datetime.now()\n",
    "        return after - before\n",
    "    return run_func\n",
    "\n",
    "\n",
    "l = time_it(fib_foo)\n",
    "print \"Elapsed Time = {0}\".format(l(10000))\n",
    "g = time_it(fib_gen)\n",
    "print \"Elapsed Time = {0}\".format(g(10000))"
   ]
  },
  {
   "cell_type": "code",
   "execution_count": null,
   "metadata": {},
   "outputs": [],
   "source": []
  }
 ],
 "metadata": {
  "kernelspec": {
   "display_name": "Python 2",
   "language": "python",
   "name": "python2"
  },
  "language_info": {
   "codemirror_mode": {
    "name": "ipython",
    "version": 2
   },
   "file_extension": ".py",
   "mimetype": "text/x-python",
   "name": "python",
   "nbconvert_exporter": "python",
   "pygments_lexer": "ipython2",
   "version": "2.7.14"
  }
 },
 "nbformat": 4,
 "nbformat_minor": 2
}
